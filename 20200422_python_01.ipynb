{
  "nbformat": 4,
  "nbformat_minor": 0,
  "metadata": {
    "colab": {
      "name": "20200422_python_01.ipynb",
      "provenance": [],
      "collapsed_sections": [
        "q7Y5iRLkMDsL",
        "eLCNExGCMN1j",
        "wa8f7HYdMU4U",
        "DgCrw7wlMatR",
        "S_5j9dwoMglO",
        "iefU6TwfShJ5",
        "mC0nUzl3TseI"
      ],
      "toc_visible": true,
      "authorship_tag": "ABX9TyOf3qIcZJPDykSPta0OtWfh",
      "include_colab_link": true
    },
    "kernelspec": {
      "name": "python3",
      "display_name": "Python 3"
    }
  },
  "cells": [
    {
      "cell_type": "markdown",
      "metadata": {
        "id": "view-in-github",
        "colab_type": "text"
      },
      "source": [
        "<a href=\"https://colab.research.google.com/github/kaz-morita/python-learning/blob/master/20200422_python_01.ipynb\" target=\"_parent\"><img src=\"https://colab.research.google.com/assets/colab-badge.svg\" alt=\"Open In Colab\"/></a>"
      ]
    },
    {
      "cell_type": "markdown",
      "metadata": {
        "id": "BR4SnZz8lQwq",
        "colab_type": "text"
      },
      "source": [
        "# Python問題集_入門編"
      ]
    },
    {
      "cell_type": "markdown",
      "metadata": {
        "id": "q7Y5iRLkMDsL",
        "colab_type": "text"
      },
      "source": [
        "# 問1"
      ]
    },
    {
      "cell_type": "markdown",
      "metadata": {
        "id": "B-GYNDQXMHYF",
        "colab_type": "text"
      },
      "source": [
        "*   Pythonに 8//3 を計算させると、いくらになるか、確認しよう\n",
        "*   ヒント：「//」は整数の割り算で、小数点以下は切り捨て"
      ]
    },
    {
      "cell_type": "code",
      "metadata": {
        "id": "k0hWPGyQlk9U",
        "colab_type": "code",
        "outputId": "eb8be4cd-36a5-4262-db6c-4500004c4a3d",
        "colab": {
          "base_uri": "https://localhost:8080/",
          "height": 0
        }
      },
      "source": [
        "ans_1 = 8 // 3\n",
        "print(ans_1)\n",
        "\n",
        "# printの中に計算式を直接書いてもOK\n",
        "print(8//3)"
      ],
      "execution_count": 3,
      "outputs": [
        {
          "output_type": "stream",
          "text": [
            "2\n",
            "2\n"
          ],
          "name": "stdout"
        }
      ]
    },
    {
      "cell_type": "markdown",
      "metadata": {
        "id": "yQaIuGB5MqbX",
        "colab_type": "text"
      },
      "source": [
        "その他の割り算\n",
        "* 通常の割り算：/\n",
        "* 割り算の余り：%"
      ]
    },
    {
      "cell_type": "code",
      "metadata": {
        "id": "ghEZBLMNlQUE",
        "colab_type": "code",
        "outputId": "69de33f6-64fb-4e95-ec88-f31d97211fd2",
        "colab": {
          "base_uri": "https://localhost:8080/",
          "height": 0
        }
      },
      "source": [
        "ans_1_1 = 8 / 3\n",
        "print('通常の割り算：',ans_1_1)\n",
        "ans_1_2 = 8 % 3\n",
        "print('割り算の余り：',ans_1_2)"
      ],
      "execution_count": 2,
      "outputs": [
        {
          "output_type": "stream",
          "text": [
            "通常の割り算： 2.6666666666666665\n",
            "割り算の余り： 2\n"
          ],
          "name": "stdout"
        }
      ]
    },
    {
      "cell_type": "markdown",
      "metadata": {
        "id": "eLCNExGCMN1j",
        "colab_type": "text"
      },
      "source": [
        "# 問2"
      ]
    },
    {
      "cell_type": "markdown",
      "metadata": {
        "id": "ySW7xVTtMP3M",
        "colab_type": "text"
      },
      "source": [
        "*   \"apple\"という文字列の長さを表示させてみよう\n",
        "*   ヒント：組み込み関数を使う"
      ]
    },
    {
      "cell_type": "code",
      "metadata": {
        "id": "PNpETQ_JkvKt",
        "colab_type": "code",
        "outputId": "79f469bb-cf0c-4ad2-c48f-d28e6844ec25",
        "colab": {
          "base_uri": "https://localhost:8080/",
          "height": 34
        }
      },
      "source": [
        "ans_2 = len(\"apple\")\n",
        "print(ans_2)"
      ],
      "execution_count": 0,
      "outputs": [
        {
          "output_type": "stream",
          "text": [
            "5\n"
          ],
          "name": "stdout"
        }
      ]
    },
    {
      "cell_type": "markdown",
      "metadata": {
        "id": "WnHBb-aYNdND",
        "colab_type": "text"
      },
      "source": [
        "* 組み込み関数「len()」は文字列の長さを数える。\n",
        "* 実は文字列だけでなく、リストや辞書の長さも数える。"
      ]
    },
    {
      "cell_type": "code",
      "metadata": {
        "id": "HKkjX6FGN4L7",
        "colab_type": "code",
        "colab": {
          "base_uri": "https://localhost:8080/",
          "height": 0
        },
        "outputId": "10464b1e-6af4-49ba-f4aa-b42f406318be"
      },
      "source": [
        "ans_2_1 = [1,1,2,3,5,8,13,21,34,55,89,144]\n",
        "print('配列の長さ：',len(ans_2_1))\n",
        "ans_2_2 = {1:'America', 39:'Italia', 86:'China'}\n",
        "print('辞書の長さ：',len(ans_2_2))"
      ],
      "execution_count": 6,
      "outputs": [
        {
          "output_type": "stream",
          "text": [
            "配列の長さ： 12\n",
            "辞書の長さ： 3\n"
          ],
          "name": "stdout"
        }
      ]
    },
    {
      "cell_type": "markdown",
      "metadata": {
        "id": "wa8f7HYdMU4U",
        "colab_type": "text"
      },
      "source": [
        "# 問3"
      ]
    },
    {
      "cell_type": "markdown",
      "metadata": {
        "id": "myZ0piU3MW-0",
        "colab_type": "text"
      },
      "source": [
        "*   ['apple', 'orange', 'banana', 'peach']というリストの３番目の要素を表示させてみよう\n",
        "*   ヒント：リストの添え字（インデックス）は0から始まる"
      ]
    },
    {
      "cell_type": "code",
      "metadata": {
        "id": "_xZTIr9emVm0",
        "colab_type": "code",
        "outputId": "0ac59957-3915-4eb7-ded3-72f58af6d164",
        "colab": {
          "base_uri": "https://localhost:8080/",
          "height": 0
        }
      },
      "source": [
        "ans_3 = ['apple', 'orange', 'banana', 'peach']\n",
        "print(ans_3[2])"
      ],
      "execution_count": 7,
      "outputs": [
        {
          "output_type": "stream",
          "text": [
            "banana\n"
          ],
          "name": "stdout"
        }
      ]
    },
    {
      "cell_type": "markdown",
      "metadata": {
        "id": "-hfb851ZO3Y-",
        "colab_type": "text"
      },
      "source": [
        "* リストの特定の値の場所（インデックス）を取得：index()\n",
        "* リスト内に同じ値がある場合は注意が必要：[参考記事（ググっただけです）](https://note.nkmk.me/python-list-index/)"
      ]
    },
    {
      "cell_type": "code",
      "metadata": {
        "id": "Pijiv_S5PMKS",
        "colab_type": "code",
        "colab": {
          "base_uri": "https://localhost:8080/",
          "height": 0
        },
        "outputId": "fb367603-01b7-4ba2-a86b-bd2d079d08ea"
      },
      "source": [
        "# 'banana'のインデックス番号を取得\n",
        "ans_3_1 = ans_3.index('banana')\n",
        "print(ans_3_1)"
      ],
      "execution_count": 9,
      "outputs": [
        {
          "output_type": "stream",
          "text": [
            "2\n"
          ],
          "name": "stdout"
        }
      ]
    },
    {
      "cell_type": "markdown",
      "metadata": {
        "id": "DgCrw7wlMatR",
        "colab_type": "text"
      },
      "source": [
        "# 問4"
      ]
    },
    {
      "cell_type": "markdown",
      "metadata": {
        "id": "NQxa9Wa8McTc",
        "colab_type": "text"
      },
      "source": [
        "*   'zero,one,twe,three'という文字列を、','で区切って、短い文字列のリストを作り、それをそのまま表示させよう\n",
        "*   ヒント：文字列型のメソッドを使う"
      ]
    },
    {
      "cell_type": "code",
      "metadata": {
        "id": "bfE3v0qFmdu6",
        "colab_type": "code",
        "outputId": "96846b91-b306-4d2a-be7f-e2e387a94640",
        "colab": {
          "base_uri": "https://localhost:8080/",
          "height": 0
        }
      },
      "source": [
        "ans_4 = 'zero,one,twe,three'\n",
        "ans_4_list = ans_4.split(',')\n",
        "print(ans_4_list)"
      ],
      "execution_count": 12,
      "outputs": [
        {
          "output_type": "stream",
          "text": [
            "['zero', 'one', 'twe', 'three']\n"
          ],
          "name": "stdout"
        }
      ]
    },
    {
      "cell_type": "markdown",
      "metadata": {
        "id": "Pbj3rzftP3nw",
        "colab_type": "text"
      },
      "source": [
        "* 文字列を区切り、リストにしてくれる：split()"
      ]
    },
    {
      "cell_type": "code",
      "metadata": {
        "id": "cmgCM1uRm8Y1",
        "colab_type": "code",
        "outputId": "38cb382d-dfb5-46d7-b0f2-7b3b8b993a5b",
        "colab": {
          "base_uri": "https://localhost:8080/",
          "height": 0
        }
      },
      "source": [
        "# ans_4自体はリストではない、ひとかたまりの文字列。print出力の違いを確認。\n",
        "print(ans_4)\n",
        "print(ans_4_list)"
      ],
      "execution_count": 13,
      "outputs": [
        {
          "output_type": "stream",
          "text": [
            "zero,one,twe,three\n",
            "['zero', 'one', 'twe', 'three']\n"
          ],
          "name": "stdout"
        }
      ]
    },
    {
      "cell_type": "markdown",
      "metadata": {
        "id": "S_5j9dwoMglO",
        "colab_type": "text"
      },
      "source": [
        "# 問5"
      ]
    },
    {
      "cell_type": "markdown",
      "metadata": {
        "id": "MvBgd80HMid-",
        "colab_type": "text"
      },
      "source": [
        "*   変数xの値が負の値であれば'negative'と、そうでなければ'non-negative'と表示させるif文を書いてみよう\n",
        "*   ヒント：if ～ else分を使う"
      ]
    },
    {
      "cell_type": "code",
      "metadata": {
        "id": "4e1S3Hp2nLD6",
        "colab_type": "code",
        "outputId": "a2f23d26-b069-418b-ceb9-4d26e10e9967",
        "colab": {
          "base_uri": "https://localhost:8080/",
          "height": 34
        }
      },
      "source": [
        "x = -5\n",
        "if x < 0:\n",
        "    print('negative')\n",
        "else:\n",
        "    print('non-negative')"
      ],
      "execution_count": 0,
      "outputs": [
        {
          "output_type": "stream",
          "text": [
            "negative\n"
          ],
          "name": "stdout"
        }
      ]
    },
    {
      "cell_type": "code",
      "metadata": {
        "id": "xhi-kMBOnnDl",
        "colab_type": "code",
        "outputId": "79dbdfd8-945e-4275-cc85-d4ae501b05e8",
        "colab": {
          "base_uri": "https://localhost:8080/",
          "height": 50
        }
      },
      "source": [
        "#　任意の数字を入力する\n",
        "n = int(input('数字を入力してください：'))\n",
        "if n < 0:\n",
        "    print('negative')\n",
        "else:\n",
        "    print('non-negative')"
      ],
      "execution_count": 0,
      "outputs": [
        {
          "output_type": "stream",
          "text": [
            "数字を入力してください：-4\n",
            "negative\n"
          ],
          "name": "stdout"
        }
      ]
    },
    {
      "cell_type": "markdown",
      "metadata": {
        "id": "I5W4MWTHQt5q",
        "colab_type": "text"
      },
      "source": [
        "* if　～　else　の間に、elifを挟み、複数の条件を処理できる\n",
        "* 負の値であれば\"negative\"、正の値であれば\"positive\"、どちらでもなければ、\"zero\""
      ]
    },
    {
      "cell_type": "code",
      "metadata": {
        "id": "Un6f5DOjRbJG",
        "colab_type": "code",
        "colab": {
          "base_uri": "https://localhost:8080/",
          "height": 51
        },
        "outputId": "ba30c6c9-e4c1-4a76-c934-6a082b087a12"
      },
      "source": [
        "n = int(input('数字を入力してください：'))\n",
        "if n < 0:\n",
        "    print('negative')\n",
        "elif n > 0:\n",
        "    print('positive')\n",
        "else:\n",
        "    print('zero')"
      ],
      "execution_count": 23,
      "outputs": [
        {
          "output_type": "stream",
          "text": [
            "数字を入力してください：456\n",
            "positive\n"
          ],
          "name": "stdout"
        }
      ]
    },
    {
      "cell_type": "markdown",
      "metadata": {
        "id": "iefU6TwfShJ5",
        "colab_type": "text"
      },
      "source": [
        "# 問6"
      ]
    },
    {
      "cell_type": "markdown",
      "metadata": {
        "id": "dJG_-lJLSj0e",
        "colab_type": "text"
      },
      "source": [
        "*   11から20までの自然数を、一つづつ、開業しながら表示させるforループを書いてみよう\n",
        "*   ヒント：range関数を使うとよい"
      ]
    },
    {
      "cell_type": "code",
      "metadata": {
        "id": "sUgHz8qUn-rR",
        "colab_type": "code",
        "outputId": "83c4e2e0-e67f-4fdc-a83c-54b6dd3b5b37",
        "colab": {
          "base_uri": "https://localhost:8080/",
          "height": 185
        }
      },
      "source": [
        "for i in range(11,21):\n",
        "    print(i)"
      ],
      "execution_count": 0,
      "outputs": [
        {
          "output_type": "stream",
          "text": [
            "11\n",
            "12\n",
            "13\n",
            "14\n",
            "15\n",
            "16\n",
            "17\n",
            "18\n",
            "19\n",
            "20\n"
          ],
          "name": "stdout"
        }
      ]
    },
    {
      "cell_type": "markdown",
      "metadata": {
        "id": "tvlq5srRSps6",
        "colab_type": "text"
      },
      "source": [
        "* range(11,21)　：　終わりの値（２１）は含まない\n",
        "* 一つ飛ばし（奇数だけ）を表示する場合、三つ目の引数に「増分」の値を指定する。　range(11,21,2)"
      ]
    },
    {
      "cell_type": "code",
      "metadata": {
        "id": "bUhtLdoDS9bR",
        "colab_type": "code",
        "colab": {
          "base_uri": "https://localhost:8080/",
          "height": 102
        },
        "outputId": "60f42eb9-35d6-45ac-a74b-c14ad0efab0f"
      },
      "source": [
        "for i in range(11,21,2):\n",
        "    print(i)"
      ],
      "execution_count": 24,
      "outputs": [
        {
          "output_type": "stream",
          "text": [
            "11\n",
            "13\n",
            "15\n",
            "17\n",
            "19\n"
          ],
          "name": "stdout"
        }
      ]
    },
    {
      "cell_type": "markdown",
      "metadata": {
        "id": "mC0nUzl3TseI",
        "colab_type": "text"
      },
      "source": [
        "# 問7"
      ]
    },
    {
      "cell_type": "markdown",
      "metadata": {
        "id": "apirFb37TuiE",
        "colab_type": "text"
      },
      "source": [
        "*   与えられた数を2倍して返す関数を書き、それに適当な値を渡して呼び出すプログラムを書いてみよう\n",
        "*   ヒント：returnを使って値を返すのを忘れないように。"
      ]
    },
    {
      "cell_type": "code",
      "metadata": {
        "id": "igjwZBZBoT7X",
        "colab_type": "code",
        "outputId": "1e59c6fc-0412-4fae-e30d-d02ea671a1ec",
        "colab": {
          "base_uri": "https://localhost:8080/",
          "height": 34
        }
      },
      "source": [
        "# 受け取った値（x）を２倍してyに入れ、yの値を、呼び出し元に返す（return）関数\n",
        "def double_func(x):\n",
        "    y = x * 2\n",
        "    return y\n",
        "\n",
        "# 関数に「４」を渡すと、「８」が返ってくる\n",
        "ans_7 = double_func(4)\n",
        "print(ans_7)\n"
      ],
      "execution_count": 25,
      "outputs": [
        {
          "output_type": "stream",
          "text": [
            "8\n"
          ],
          "name": "stdout"
        }
      ]
    },
    {
      "cell_type": "code",
      "metadata": {
        "id": "EjeeDpZDpBfX",
        "colab_type": "code",
        "outputId": "ad97e29a-0fe0-4544-d9ab-46852ebf6140",
        "colab": {
          "base_uri": "https://localhost:8080/",
          "height": 34
        }
      },
      "source": [
        "#  関数の中でｙに入れなくても、xの２倍の値を直接返す（return）書き方もあり。\n",
        "def double_func2(x):\n",
        "    return x * 2\n",
        "\n",
        "ans_7x = double_func2(5)\n",
        "print(ans_7x)\n",
        "\n"
      ],
      "execution_count": 30,
      "outputs": [
        {
          "output_type": "stream",
          "text": [
            "10\n"
          ],
          "name": "stdout"
        }
      ]
    },
    {
      "cell_type": "code",
      "metadata": {
        "id": "mOHiWgSBUpb-",
        "colab_type": "code",
        "colab": {
          "base_uri": "https://localhost:8080/",
          "height": 102
        },
        "outputId": "fdc4c97a-b1d4-4842-c2bb-665d8450570c"
      },
      "source": [
        "def double_func2(x):\n",
        "    return x * 2\n",
        "\n",
        "# リストの各要素を２倍して出力\n",
        "x = [1,2,3,4,5]\n",
        "for i in x:\n",
        "    print(double_func2(i))"
      ],
      "execution_count": 28,
      "outputs": [
        {
          "output_type": "stream",
          "text": [
            "2\n",
            "4\n",
            "6\n",
            "8\n",
            "10\n"
          ],
          "name": "stdout"
        }
      ]
    },
    {
      "cell_type": "markdown",
      "metadata": {
        "id": "M3RLJ0dIoeaA",
        "colab_type": "text"
      },
      "source": [
        ""
      ]
    }
  ]
}
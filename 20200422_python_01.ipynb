{
  "nbformat": 4,
  "nbformat_minor": 0,
  "metadata": {
    "colab": {
      "name": "20200422_python_01.ipynb",
      "provenance": [],
      "collapsed_sections": [],
      "authorship_tag": "ABX9TyOfS/a09vg+v4Cpc9YTmTJi",
      "include_colab_link": true
    },
    "kernelspec": {
      "name": "python3",
      "display_name": "Python 3"
    }
  },
  "cells": [
    {
      "cell_type": "markdown",
      "metadata": {
        "id": "view-in-github",
        "colab_type": "text"
      },
      "source": [
        "<a href=\"https://colab.research.google.com/github/kaz-morita/python-learning/blob/master/20200422_python_01.ipynb\" target=\"_parent\"><img src=\"https://colab.research.google.com/assets/colab-badge.svg\" alt=\"Open In Colab\"/></a>"
      ]
    },
    {
      "cell_type": "markdown",
      "metadata": {
        "id": "BR4SnZz8lQwq",
        "colab_type": "text"
      },
      "source": [
        "# Python問題集_入門編"
      ]
    },
    {
      "cell_type": "markdown",
      "metadata": {
        "id": "yxXgHDs4lYfC",
        "colab_type": "text"
      },
      "source": [
        "問１\n",
        "\n",
        "\n",
        "*   Pythonに 8//3 を計算させると、いくらになるか、確認しよう\n",
        "*   ヒント：「//」は整数の割り算で、小数点以下は切り捨て\n",
        "\n"
      ]
    },
    {
      "cell_type": "code",
      "metadata": {
        "id": "k0hWPGyQlk9U",
        "colab_type": "code",
        "outputId": "3d61bbcd-baf8-475b-f852-0216fca9d2be",
        "colab": {
          "base_uri": "https://localhost:8080/",
          "height": 34
        }
      },
      "source": [
        "ans_1 = 8 // 3\n",
        "print(ans_1)"
      ],
      "execution_count": 0,
      "outputs": [
        {
          "output_type": "stream",
          "text": [
            "2\n"
          ],
          "name": "stdout"
        }
      ]
    },
    {
      "cell_type": "code",
      "metadata": {
        "id": "ghEZBLMNlQUE",
        "colab_type": "code",
        "outputId": "89524d6a-784c-4cf5-8def-3a4510206603",
        "colab": {
          "base_uri": "https://localhost:8080/",
          "height": 34
        }
      },
      "source": [
        "# 通常の割り算\n",
        "ans_1x = 8 / 3\n",
        "print(ans_1x)"
      ],
      "execution_count": 0,
      "outputs": [
        {
          "output_type": "stream",
          "text": [
            "2.6666666666666665\n"
          ],
          "name": "stdout"
        }
      ]
    },
    {
      "cell_type": "markdown",
      "metadata": {
        "id": "X1eXlvuXl2H3",
        "colab_type": "text"
      },
      "source": [
        "問２\n",
        "\n",
        "\n",
        "*   \"apple\"という文字列の長さを表示させてみよう\n",
        "*   ヒント：組み込み関数を使う\n",
        "\n"
      ]
    },
    {
      "cell_type": "code",
      "metadata": {
        "id": "PNpETQ_JkvKt",
        "colab_type": "code",
        "outputId": "79f469bb-cf0c-4ad2-c48f-d28e6844ec25",
        "colab": {
          "base_uri": "https://localhost:8080/",
          "height": 34
        }
      },
      "source": [
        "ans_2 = len(\"apple\")\n",
        "print(ans_2)"
      ],
      "execution_count": 0,
      "outputs": [
        {
          "output_type": "stream",
          "text": [
            "5\n"
          ],
          "name": "stdout"
        }
      ]
    },
    {
      "cell_type": "markdown",
      "metadata": {
        "id": "agvC3lNclNXV",
        "colab_type": "text"
      },
      "source": [
        "問３\n",
        "\n",
        "\n",
        "*   ['apple', 'orange', 'banana', 'peach']というリストの３番目の要素を表示させてみよう\n",
        "*   ヒント：リストの添え字（インデックス）は0から始まる\n",
        "\n"
      ]
    },
    {
      "cell_type": "code",
      "metadata": {
        "id": "_xZTIr9emVm0",
        "colab_type": "code",
        "outputId": "cf2dd73e-b2c1-43e0-d21a-96014e35b4f0",
        "colab": {
          "base_uri": "https://localhost:8080/",
          "height": 34
        }
      },
      "source": [
        "ans_3 = ['apple', 'orange', 'banana', 'peach']\n",
        "print(ans_3[2])"
      ],
      "execution_count": 0,
      "outputs": [
        {
          "output_type": "stream",
          "text": [
            "banana\n"
          ],
          "name": "stdout"
        }
      ]
    },
    {
      "cell_type": "markdown",
      "metadata": {
        "id": "zJRVyXNzmjZD",
        "colab_type": "text"
      },
      "source": [
        "問４\n",
        "\n",
        "\n",
        "*   'zero,one,twe,three'という文字列を、','で区切って、短い文字列のリストを作り、それをそのまま表示させよう\n",
        "*   ヒント：文字列型のメソッドを使う\n",
        "\n"
      ]
    },
    {
      "cell_type": "code",
      "metadata": {
        "id": "bfE3v0qFmdu6",
        "colab_type": "code",
        "outputId": "cc112145-8138-4c21-9d08-735049e8300c",
        "colab": {
          "base_uri": "https://localhost:8080/",
          "height": 34
        }
      },
      "source": [
        "ans_4 = 'zero,one,twe,three'\n",
        "ans_4_list = list(ans_4.split(','))\n",
        "print(ans_4_list)"
      ],
      "execution_count": 0,
      "outputs": [
        {
          "output_type": "stream",
          "text": [
            "['zero', 'one', 'twe', 'three']\n"
          ],
          "name": "stdout"
        }
      ]
    },
    {
      "cell_type": "code",
      "metadata": {
        "id": "cmgCM1uRm8Y1",
        "colab_type": "code",
        "outputId": "d1811af9-a912-41f2-e61b-867a59bd2c28",
        "colab": {
          "base_uri": "https://localhost:8080/",
          "height": 34
        }
      },
      "source": [
        "# ans_4自体はリストではない、ひとかたまりの文字列\n",
        "print(ans_4)"
      ],
      "execution_count": 0,
      "outputs": [
        {
          "output_type": "stream",
          "text": [
            "zero,one,twe,three\n"
          ],
          "name": "stdout"
        }
      ]
    },
    {
      "cell_type": "markdown",
      "metadata": {
        "id": "R-hn3-O5nRcg",
        "colab_type": "text"
      },
      "source": [
        "問５\n",
        "\n",
        "\n",
        "*   変数xの値が負の値であれば'negative'と、そうでなければ'non-negative'と表示させるif文を書いてみよう\n",
        "*   ヒント：if ～ else分を使う\n",
        "\n"
      ]
    },
    {
      "cell_type": "code",
      "metadata": {
        "id": "4e1S3Hp2nLD6",
        "colab_type": "code",
        "outputId": "a2f23d26-b069-418b-ceb9-4d26e10e9967",
        "colab": {
          "base_uri": "https://localhost:8080/",
          "height": 34
        }
      },
      "source": [
        "x = -5\n",
        "if x < 0:\n",
        "    print('negative')\n",
        "else:\n",
        "    print('non-negative')"
      ],
      "execution_count": 0,
      "outputs": [
        {
          "output_type": "stream",
          "text": [
            "negative\n"
          ],
          "name": "stdout"
        }
      ]
    },
    {
      "cell_type": "code",
      "metadata": {
        "id": "xhi-kMBOnnDl",
        "colab_type": "code",
        "outputId": "79dbdfd8-945e-4275-cc85-d4ae501b05e8",
        "colab": {
          "base_uri": "https://localhost:8080/",
          "height": 50
        }
      },
      "source": [
        "#　任意の数字を入力する\n",
        "n = int(input('数字を入力してください：'))\n",
        "if n < 0:\n",
        "    print('negative')\n",
        "else:\n",
        "    print('non-negative')"
      ],
      "execution_count": 0,
      "outputs": [
        {
          "output_type": "stream",
          "text": [
            "数字を入力してください：-4\n",
            "negative\n"
          ],
          "name": "stdout"
        }
      ]
    },
    {
      "cell_type": "markdown",
      "metadata": {
        "id": "KXW6FwvyoGJE",
        "colab_type": "text"
      },
      "source": [
        "問6\n",
        "\n",
        "\n",
        "*   11から20までの自然数を、一つづつ、開業しながら表示させるforループを書いてみよう\n",
        "*   ヒント：range関数を使うとよい\n",
        "\n"
      ]
    },
    {
      "cell_type": "code",
      "metadata": {
        "id": "sUgHz8qUn-rR",
        "colab_type": "code",
        "outputId": "83c4e2e0-e67f-4fdc-a83c-54b6dd3b5b37",
        "colab": {
          "base_uri": "https://localhost:8080/",
          "height": 185
        }
      },
      "source": [
        "for i in range(11,21):\n",
        "    print(i)"
      ],
      "execution_count": 0,
      "outputs": [
        {
          "output_type": "stream",
          "text": [
            "11\n",
            "12\n",
            "13\n",
            "14\n",
            "15\n",
            "16\n",
            "17\n",
            "18\n",
            "19\n",
            "20\n"
          ],
          "name": "stdout"
        }
      ]
    },
    {
      "cell_type": "markdown",
      "metadata": {
        "id": "KFNEC8c6ofez",
        "colab_type": "text"
      },
      "source": [
        "問7\n",
        "\n",
        "\n",
        "*   与えられた数を2倍して返す関数を書き、それに適当な値を渡して呼び出すプログラムを書いてみよう\n",
        "*   ヒント：returnを使って値を返すのを忘れないように。\n",
        "\n"
      ]
    },
    {
      "cell_type": "code",
      "metadata": {
        "id": "igjwZBZBoT7X",
        "colab_type": "code",
        "outputId": "ddfe41ea-ff81-448c-9e47-9885285b38f9",
        "colab": {
          "base_uri": "https://localhost:8080/",
          "height": 34
        }
      },
      "source": [
        "def double_func(x):\n",
        "    y = x * 2\n",
        "    return y\n",
        "\n",
        "ans_7 = double_func(4)\n",
        "print(ans_7)\n"
      ],
      "execution_count": 0,
      "outputs": [
        {
          "output_type": "stream",
          "text": [
            "8\n"
          ],
          "name": "stdout"
        }
      ]
    },
    {
      "cell_type": "code",
      "metadata": {
        "id": "EjeeDpZDpBfX",
        "colab_type": "code",
        "outputId": "a5e5a592-3bf6-419a-a91d-ef3de35ab0ab",
        "colab": {
          "base_uri": "https://localhost:8080/",
          "height": 50
        }
      },
      "source": [
        "#　よりシンプルに書く\n",
        "def double_func2(x):\n",
        "    return x * 2\n",
        "\n",
        "ans_7x = double_func2(5)\n",
        "print(ans_7x)\n",
        "\n",
        "# 表示（print）も一行で書ける\n",
        "print(double_func2(13))"
      ],
      "execution_count": 0,
      "outputs": [
        {
          "output_type": "stream",
          "text": [
            "10\n",
            "26\n"
          ],
          "name": "stdout"
        }
      ]
    },
    {
      "cell_type": "markdown",
      "metadata": {
        "id": "M3RLJ0dIoeaA",
        "colab_type": "text"
      },
      "source": [
        ""
      ]
    }
  ]
}
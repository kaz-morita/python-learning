{
  "nbformat": 4,
  "nbformat_minor": 0,
  "metadata": {
    "colab": {
      "name": "20200422_python_02.ipynb",
      "provenance": [],
      "collapsed_sections": [],
      "authorship_tag": "ABX9TyMpHZhI7FNsL5xh5qE8Om4v",
      "include_colab_link": true
    },
    "kernelspec": {
      "name": "python3",
      "display_name": "Python 3"
    }
  },
  "cells": [
    {
      "cell_type": "markdown",
      "metadata": {
        "id": "view-in-github",
        "colab_type": "text"
      },
      "source": [
        "<a href=\"https://colab.research.google.com/github/kaz-morita/python-learning/blob/master/20200422_python_02.ipynb\" target=\"_parent\"><img src=\"https://colab.research.google.com/assets/colab-badge.svg\" alt=\"Open In Colab\"/></a>"
      ]
    },
    {
      "cell_type": "markdown",
      "metadata": {
        "id": "hvu_zcuQp252",
        "colab_type": "text"
      },
      "source": [
        ""
      ]
    },
    {
      "cell_type": "markdown",
      "metadata": {
        "id": "Ky-rHn0vp4n0",
        "colab_type": "text"
      },
      "source": [
        "# Python問題集"
      ]
    },
    {
      "cell_type": "markdown",
      "metadata": {
        "id": "MKRPeomqp-9H",
        "colab_type": "text"
      },
      "source": [
        "問1\n",
        "\n",
        "\n",
        "*   1000以上2000以下の整数のうち、\n",
        "*   7で割り切れ、かつ、5で割り切れないものをすべて、\n",
        "*  「,」で区切って画面に表示してみよう。\n",
        "\n",
        "\n",
        "\n"
      ]
    },
    {
      "cell_type": "code",
      "metadata": {
        "id": "utdrUg08pyge",
        "colab_type": "code",
        "outputId": "67ba6f27-d15c-4750-c840-d35d37bf58e3",
        "colab": {
          "base_uri": "https://localhost:8080/",
          "height": 54
        }
      },
      "source": [
        "# 1000以上2000以下のリストを作る\n",
        "n_list = list(range(1000,2001))\n",
        "\n",
        "# 7で割り切れる数字を抜き出して、新たなリストを作る\n",
        "n7_list = []\n",
        "for i in n_list:\n",
        "    if (int(i) % 7) == 0:\n",
        "        n7_list.append(i)\n",
        "        \n",
        "# print(n7_list)\n",
        "\n",
        "# 7で割り切れるリストから、5で割り切れないものを抜き出して、新たなリストを作る\n",
        "n7_5_list = []\n",
        "for j in n7_list:\n",
        "    if (int(j) % 5) != 0:\n",
        "        n7_5_list.append(j)\n",
        "print(n7_5_list)"
      ],
      "execution_count": 0,
      "outputs": [
        {
          "output_type": "stream",
          "text": [
            "[1001, 1008, 1022, 1029, 1036, 1043, 1057, 1064, 1071, 1078, 1092, 1099, 1106, 1113, 1127, 1134, 1141, 1148, 1162, 1169, 1176, 1183, 1197, 1204, 1211, 1218, 1232, 1239, 1246, 1253, 1267, 1274, 1281, 1288, 1302, 1309, 1316, 1323, 1337, 1344, 1351, 1358, 1372, 1379, 1386, 1393, 1407, 1414, 1421, 1428, 1442, 1449, 1456, 1463, 1477, 1484, 1491, 1498, 1512, 1519, 1526, 1533, 1547, 1554, 1561, 1568, 1582, 1589, 1596, 1603, 1617, 1624, 1631, 1638, 1652, 1659, 1666, 1673, 1687, 1694, 1701, 1708, 1722, 1729, 1736, 1743, 1757, 1764, 1771, 1778, 1792, 1799, 1806, 1813, 1827, 1834, 1841, 1848, 1862, 1869, 1876, 1883, 1897, 1904, 1911, 1918, 1932, 1939, 1946, 1953, 1967, 1974, 1981, 1988]\n"
          ],
          "name": "stdout"
        }
      ]
    },
    {
      "cell_type": "markdown",
      "metadata": {
        "id": "ltQrGjxyp34V",
        "colab_type": "text"
      },
      "source": [
        ""
      ]
    },
    {
      "cell_type": "code",
      "metadata": {
        "id": "L7F2g0tysJna",
        "colab_type": "code",
        "outputId": "32c95b56-2bdf-4eef-9791-3815aa150ef4",
        "colab": {
          "base_uri": "https://localhost:8080/",
          "height": 54
        }
      },
      "source": [
        "# よりシンプルな回答\n",
        "for i in range(1000,2001):\n",
        "    if (i % 7 == 0)and(i % 5 != 0):\n",
        "        print('{},'.format(i), end=\"\")\n"
      ],
      "execution_count": 2,
      "outputs": [
        {
          "output_type": "stream",
          "text": [
            "1001,1008,1022,1029,1036,1043,1057,1064,1071,1078,1092,1099,1106,1113,1127,1134,1141,1148,1162,1169,1176,1183,1197,1204,1211,1218,1232,1239,1246,1253,1267,1274,1281,1288,1302,1309,1316,1323,1337,1344,1351,1358,1372,1379,1386,1393,1407,1414,1421,1428,1442,1449,1456,1463,1477,1484,1491,1498,1512,1519,1526,1533,1547,1554,1561,1568,1582,1589,1596,1603,1617,1624,1631,1638,1652,1659,1666,1673,1687,1694,1701,1708,1722,1729,1736,1743,1757,1764,1771,1778,1792,1799,1806,1813,1827,1834,1841,1848,1862,1869,1876,1883,1897,1904,1911,1918,1932,1939,1946,1953,1967,1974,1981,1988,"
          ],
          "name": "stdout"
        }
      ]
    },
    {
      "cell_type": "markdown",
      "metadata": {
        "id": "8l_ClCAds6ua",
        "colab_type": "text"
      },
      "source": [
        "問2\n",
        "\n",
        "\n",
        "*   「,」で区切られた複数の単語の列を、\n",
        "    *  例：\"with,go,apple,late,set\"\n",
        "*  一つの長い文字列として、キーボード入力で受け取り、\n",
        "*  それらの単語を辞書式順に並び変えてから、\n",
        "*  やはり「,」で区切られた単語の列として、\n",
        "*  画面に表示してみよう。\n",
        "    *  例：\"apple,go,late,set,with\"\n",
        "\n",
        "\n",
        "\n"
      ]
    },
    {
      "cell_type": "code",
      "metadata": {
        "id": "zqG6xo4zsJeY",
        "colab_type": "code",
        "outputId": "65b2a951-f9ee-4a2e-911f-bf5ec11c43a4",
        "colab": {
          "base_uri": "https://localhost:8080/",
          "height": 50
        }
      },
      "source": [
        "s = input(\"単語の列を入力：\")\n",
        "s_list = list(s.split(','))\n",
        "new_s_list = sorted(s_list)\n",
        "\n",
        "##↓の出力は求められている答えとちょっと違う！\n",
        "# print(s_list) \n",
        "\n",
        "# listを文字列に変換する「join()」を使う。\n",
        "print(','.join(new_s_list))\n"
      ],
      "execution_count": 0,
      "outputs": [
        {
          "output_type": "stream",
          "text": [
            "単語の列を入力：with,go,apple,late,set\n",
            "apple,go,late,set,with\n"
          ],
          "name": "stdout"
        }
      ]
    },
    {
      "cell_type": "markdown",
      "metadata": {
        "id": "rRs4NP3qs5-v",
        "colab_type": "text"
      },
      "source": [
        "問3\n",
        "\n",
        "\n",
        "*   「,」で区切られた複数の単語の列を、\n",
        "    *  例：\"with,go,apple,late,set\"\n",
        "*  一つの長い文字列として、キーボード入力で受け取り、\n",
        "*  各々の単語をキー(key)とし、\n",
        "*  その単語の長さを値(value)とするような辞書を作り、\n",
        "*  その辞書をそのまま画面に表示させてみよう\n",
        "\n"
      ]
    },
    {
      "cell_type": "code",
      "metadata": {
        "id": "vQKJG05QxFr3",
        "colab_type": "code",
        "outputId": "d035fd34-12a8-47f6-8ffb-adf3156e89d5",
        "colab": {
          "base_uri": "https://localhost:8080/",
          "height": 50
        }
      },
      "source": [
        "s = input(\"単語の列を入力：\")\n",
        "#単語を「key」リスト化\n",
        "k_list = list(s.split(','))\n",
        "#単語の長さを「value」リスト化\n",
        "v_list = []\n",
        "for i in k_list:\n",
        "    v_list.append(len(i))\n",
        "\n",
        "##それぞれのリストを出力してみる\n",
        "# print(k_list)\n",
        "# print(v_list)\n",
        "\n",
        "ans_3 = {}\n",
        "for j in range(len(k_list)):\n",
        "    ans_3[k_list[j]]=v_list[j] #辞書「ans_3」に、キー：k_listの0番目の値（with）と、バリュー：v_listの0番目の値（4）を、追加。以降、リストの最後まで繰り返す。\n",
        "print(ans_3)\n"
      ],
      "execution_count": 0,
      "outputs": [
        {
          "output_type": "stream",
          "text": [
            "単語の列を入力：with,go,apple,late,set\n",
            "{'with': 4, 'go': 2, 'apple': 5, 'late': 4, 'set': 3}\n"
          ],
          "name": "stdout"
        }
      ]
    },
    {
      "cell_type": "markdown",
      "metadata": {
        "id": "CrB6kmBA1KXl",
        "colab_type": "text"
      },
      "source": [
        "問４\n",
        "\n",
        "\n",
        "*   数をユーザに当てさせるゲームを作ろう。\n",
        "    *    プログラムの初めに0以上99以下の整数の乱数を発生させる\n",
        "    *    この数を、以下のようにしてユーザに当てさせる。\n",
        "    *    ユーザは毎回キーボードから数を入力する。\n",
        "    *    もしその数が正解なら、正解である旨を表示してプログラムは終了。\n",
        "    *    そうでないなら、正解よりも大きな値か、あるいは小さな値かを、ヒントとして画面に表示する。\n",
        "    *    正解にだどりつくまで、ユーザに数を入力させる。"
      ]
    },
    {
      "cell_type": "code",
      "metadata": {
        "id": "mVl1EoL61qRB",
        "colab_type": "code",
        "outputId": "530dacb7-0343-4223-a9ba-98af6cfafc61",
        "colab": {
          "base_uri": "https://localhost:8080/",
          "height": 185
        }
      },
      "source": [
        "import random\n",
        "target_n = random.randint(0,99)\n",
        "\n",
        "n = int(input('数字を当ててください：'))\n",
        "while target_n != n:\n",
        "    if n > target_n:\n",
        "        print('ヒント：もっと小さいです')\n",
        "    elif n < target_n:\n",
        "        print('ヒント：もっと大きいです')\n",
        "    n = int(input('数字を当ててください：'))\n",
        "print('正解')\n"
      ],
      "execution_count": 0,
      "outputs": [
        {
          "output_type": "stream",
          "text": [
            "数字を当ててください：58\n",
            "ヒント：もっと小さいです\n",
            "数字を当ててください：39\n",
            "ヒント：もっと小さいです\n",
            "数字を当ててください：20\n",
            "ヒント：もっと小さいです\n",
            "数字を当ててください：10\n",
            "ヒント：もっと大きいです\n",
            "数字を当ててください：15\n",
            "正解\n"
          ],
          "name": "stdout"
        }
      ]
    },
    {
      "cell_type": "markdown",
      "metadata": {
        "id": "f7ykcJyO4dgV",
        "colab_type": "text"
      },
      "source": [
        "問5\n",
        "\n",
        "\n",
        "*   キーボード入力で、\n",
        "*   「0」と「1」だけから成る文字列を受け取り、\n",
        "*   その文字列を2進数の数と解釈して、\n",
        "*    同じ値を8進数で表した場合の表記を文字列として作り、\n",
        "*    画面に表示させてみよう。 \n",
        "\n"
      ]
    },
    {
      "cell_type": "code",
      "metadata": {
        "id": "Px64mhwYzbsF",
        "colab_type": "code",
        "outputId": "698608d0-2a15-458b-bccb-684e03c24378",
        "colab": {
          "base_uri": "https://localhost:8080/",
          "height": 50
        }
      },
      "source": [
        "b = input()\n",
        "\n",
        "## １と０の文字列を１０進数の数値に計算。\n",
        "b_list = list(b[::-1])\n",
        "number = 0\n",
        "for i in range(len(b_list)):\n",
        "    number += int(b_list[i]) * (2 ** i)\n",
        "# print(number)\n",
        "\n",
        "oct_number = oct(number)\n",
        "print(oct_number)\n"
      ],
      "execution_count": 11,
      "outputs": [
        {
          "output_type": "stream",
          "text": [
            "0111\n",
            "0o7\n"
          ],
          "name": "stdout"
        }
      ]
    },
    {
      "cell_type": "code",
      "metadata": {
        "id": "9j7P6SRMGfCD",
        "colab_type": "code",
        "colab": {
          "base_uri": "https://localhost:8080/",
          "height": 101
        },
        "outputId": "af638942-1255-4faf-e72b-2dcbc570bf1a"
      },
      "source": [
        "b = input('１と０だけの文字列を入力：')\n",
        "\n",
        "# 文字列ｂを、2進数の数値に変換\n",
        "b_num = int(b, 2)\n",
        "print(b_num)\n",
        "\n",
        "# b_numの型を確認　＝＞ int型\n",
        "print(type(b_num))\n",
        "\n",
        "# 数値を8進数の文字列に変換\n",
        "oct_str = oct(b_num)\n",
        "print('8進数表記：',oct_str)\n",
        "print('10進数表記：',b_num)\n"
      ],
      "execution_count": 10,
      "outputs": [
        {
          "output_type": "stream",
          "text": [
            "１と０だけの文字列を入力：0111\n",
            "7\n",
            "<class 'int'>\n",
            "8進数表記： 0o7\n",
            "10進数表記： 7\n"
          ],
          "name": "stdout"
        }
      ]
    },
    {
      "cell_type": "code",
      "metadata": {
        "id": "oZWFUfRlHi3I",
        "colab_type": "code",
        "colab": {}
      },
      "source": [
        "111"
      ],
      "execution_count": 0,
      "outputs": []
    }
  ]
}
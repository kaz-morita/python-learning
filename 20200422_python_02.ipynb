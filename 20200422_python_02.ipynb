{
  "nbformat": 4,
  "nbformat_minor": 0,
  "metadata": {
    "colab": {
      "name": "20200422_python_02.ipynb",
      "provenance": [],
      "collapsed_sections": [
        "1Eh_L53JJeY7",
        "LHO2eLGgJ1CQ",
        "gIdNWwsnKUnN",
        "i7150DKDKeHa",
        "B5KdN54hKnJZ"
      ],
      "toc_visible": true,
      "authorship_tag": "ABX9TyNBjwtSzBwauKrdVeHSU3GU",
      "include_colab_link": true
    },
    "kernelspec": {
      "name": "python3",
      "display_name": "Python 3"
    }
  },
  "cells": [
    {
      "cell_type": "markdown",
      "metadata": {
        "id": "view-in-github",
        "colab_type": "text"
      },
      "source": [
        "<a href=\"https://colab.research.google.com/github/kaz-morita/python-learning/blob/master/20200422_python_02.ipynb\" target=\"_parent\"><img src=\"https://colab.research.google.com/assets/colab-badge.svg\" alt=\"Open In Colab\"/></a>"
      ]
    },
    {
      "cell_type": "markdown",
      "metadata": {
        "id": "hvu_zcuQp252",
        "colab_type": "text"
      },
      "source": [
        ""
      ]
    },
    {
      "cell_type": "markdown",
      "metadata": {
        "id": "Ky-rHn0vp4n0",
        "colab_type": "text"
      },
      "source": [
        "# Python問題集"
      ]
    },
    {
      "cell_type": "markdown",
      "metadata": {
        "id": "1Eh_L53JJeY7",
        "colab_type": "text"
      },
      "source": [
        "# 問1\n"
      ]
    },
    {
      "cell_type": "markdown",
      "metadata": {
        "id": "N13JedyPKDBE",
        "colab_type": "text"
      },
      "source": [
        "*   1000以上2000以下の整数のうち、\n",
        "*   7で割り切れ、かつ、5で割り切れないものをすべて、\n",
        "*  「,」で区切って画面に表示してみよう。"
      ]
    },
    {
      "cell_type": "code",
      "metadata": {
        "id": "utdrUg08pyge",
        "colab_type": "code",
        "outputId": "67ba6f27-d15c-4750-c840-d35d37bf58e3",
        "colab": {
          "base_uri": "https://localhost:8080/",
          "height": 54
        }
      },
      "source": [
        "# 1000以上2000以下のリストを作る\n",
        "n_list = list(range(1000,2001))\n",
        "\n",
        "# 7で割り切れる数字を抜き出して、新たなリストを作る\n",
        "n7_list = []\n",
        "for i in n_list:\n",
        "    if (int(i) % 7) == 0:\n",
        "        n7_list.append(i)\n",
        "        \n",
        "# print(n7_list)\n",
        "\n",
        "# 7で割り切れるリストから、5で割り切れないものを抜き出して、新たなリストを作る\n",
        "n7_5_list = []\n",
        "for j in n7_list:\n",
        "    if (int(j) % 5) != 0:\n",
        "        n7_5_list.append(j)\n",
        "print(n7_5_list)"
      ],
      "execution_count": 0,
      "outputs": [
        {
          "output_type": "stream",
          "text": [
            "[1001, 1008, 1022, 1029, 1036, 1043, 1057, 1064, 1071, 1078, 1092, 1099, 1106, 1113, 1127, 1134, 1141, 1148, 1162, 1169, 1176, 1183, 1197, 1204, 1211, 1218, 1232, 1239, 1246, 1253, 1267, 1274, 1281, 1288, 1302, 1309, 1316, 1323, 1337, 1344, 1351, 1358, 1372, 1379, 1386, 1393, 1407, 1414, 1421, 1428, 1442, 1449, 1456, 1463, 1477, 1484, 1491, 1498, 1512, 1519, 1526, 1533, 1547, 1554, 1561, 1568, 1582, 1589, 1596, 1603, 1617, 1624, 1631, 1638, 1652, 1659, 1666, 1673, 1687, 1694, 1701, 1708, 1722, 1729, 1736, 1743, 1757, 1764, 1771, 1778, 1792, 1799, 1806, 1813, 1827, 1834, 1841, 1848, 1862, 1869, 1876, 1883, 1897, 1904, 1911, 1918, 1932, 1939, 1946, 1953, 1967, 1974, 1981, 1988]\n"
          ],
          "name": "stdout"
        }
      ]
    },
    {
      "cell_type": "code",
      "metadata": {
        "id": "L7F2g0tysJna",
        "colab_type": "code",
        "outputId": "32c95b56-2bdf-4eef-9791-3815aa150ef4",
        "colab": {
          "base_uri": "https://localhost:8080/"
        }
      },
      "source": [
        "# よりシンプルな回答\n",
        "for i in range(1000,2001):\n",
        "    if (i % 7 == 0)and(i % 5 != 0):\n",
        "        print('{},'.format(i), end=\"\")\n"
      ],
      "execution_count": 0,
      "outputs": [
        {
          "output_type": "stream",
          "text": [
            "1001,1008,1022,1029,1036,1043,1057,1064,1071,1078,1092,1099,1106,1113,1127,1134,1141,1148,1162,1169,1176,1183,1197,1204,1211,1218,1232,1239,1246,1253,1267,1274,1281,1288,1302,1309,1316,1323,1337,1344,1351,1358,1372,1379,1386,1393,1407,1414,1421,1428,1442,1449,1456,1463,1477,1484,1491,1498,1512,1519,1526,1533,1547,1554,1561,1568,1582,1589,1596,1603,1617,1624,1631,1638,1652,1659,1666,1673,1687,1694,1701,1708,1722,1729,1736,1743,1757,1764,1771,1778,1792,1799,1806,1813,1827,1834,1841,1848,1862,1869,1876,1883,1897,1904,1911,1918,1932,1939,1946,1953,1967,1974,1981,1988,"
          ],
          "name": "stdout"
        }
      ]
    },
    {
      "cell_type": "code",
      "metadata": {
        "id": "C4FDN-iZIUo5",
        "colab_type": "code",
        "colab": {
          "base_uri": "https://localhost:8080/",
          "height": 88
        },
        "outputId": "b9f2ae05-ad41-49ad-aab4-2b1d5d928a30"
      },
      "source": [
        "# forを使わない方法！？\n",
        "## ７の倍数のリストを作る。1000以上の最小の7の倍数「1001」から７刻みのrange\n",
        "n7_list = list(range(1001,2001,7))\n",
        "print(n7_list)\n",
        "## ５の倍数のリストを作る。1000以上の最小の5の倍数「1000」から５刻みのrange\n",
        "n5_list = list(range(1000,2001,5))\n",
        "print(n5_list)\n",
        "\n",
        "##　リストの足し算はできるが引き算ができない。ググると、setにすると引き算（重複した要素を消してくれる）ができる。\n",
        "n7_non5_list = list(set(n7_list) - set(n5_list))\n",
        "##　setで引き算してリストに変換してみたら並び順がぐちゃぐちゃだったので、昇順にソートして出力！\n",
        "n7_non5_list.sort()\n",
        "print(n7_non5_list)"
      ],
      "execution_count": 15,
      "outputs": [
        {
          "output_type": "stream",
          "text": [
            "[1001, 1008, 1015, 1022, 1029, 1036, 1043, 1050, 1057, 1064, 1071, 1078, 1085, 1092, 1099, 1106, 1113, 1120, 1127, 1134, 1141, 1148, 1155, 1162, 1169, 1176, 1183, 1190, 1197, 1204, 1211, 1218, 1225, 1232, 1239, 1246, 1253, 1260, 1267, 1274, 1281, 1288, 1295, 1302, 1309, 1316, 1323, 1330, 1337, 1344, 1351, 1358, 1365, 1372, 1379, 1386, 1393, 1400, 1407, 1414, 1421, 1428, 1435, 1442, 1449, 1456, 1463, 1470, 1477, 1484, 1491, 1498, 1505, 1512, 1519, 1526, 1533, 1540, 1547, 1554, 1561, 1568, 1575, 1582, 1589, 1596, 1603, 1610, 1617, 1624, 1631, 1638, 1645, 1652, 1659, 1666, 1673, 1680, 1687, 1694, 1701, 1708, 1715, 1722, 1729, 1736, 1743, 1750, 1757, 1764, 1771, 1778, 1785, 1792, 1799, 1806, 1813, 1820, 1827, 1834, 1841, 1848, 1855, 1862, 1869, 1876, 1883, 1890, 1897, 1904, 1911, 1918, 1925, 1932, 1939, 1946, 1953, 1960, 1967, 1974, 1981, 1988, 1995]\n",
            "[1000, 1005, 1010, 1015, 1020, 1025, 1030, 1035, 1040, 1045, 1050, 1055, 1060, 1065, 1070, 1075, 1080, 1085, 1090, 1095, 1100, 1105, 1110, 1115, 1120, 1125, 1130, 1135, 1140, 1145, 1150, 1155, 1160, 1165, 1170, 1175, 1180, 1185, 1190, 1195, 1200, 1205, 1210, 1215, 1220, 1225, 1230, 1235, 1240, 1245, 1250, 1255, 1260, 1265, 1270, 1275, 1280, 1285, 1290, 1295, 1300, 1305, 1310, 1315, 1320, 1325, 1330, 1335, 1340, 1345, 1350, 1355, 1360, 1365, 1370, 1375, 1380, 1385, 1390, 1395, 1400, 1405, 1410, 1415, 1420, 1425, 1430, 1435, 1440, 1445, 1450, 1455, 1460, 1465, 1470, 1475, 1480, 1485, 1490, 1495, 1500, 1505, 1510, 1515, 1520, 1525, 1530, 1535, 1540, 1545, 1550, 1555, 1560, 1565, 1570, 1575, 1580, 1585, 1590, 1595, 1600, 1605, 1610, 1615, 1620, 1625, 1630, 1635, 1640, 1645, 1650, 1655, 1660, 1665, 1670, 1675, 1680, 1685, 1690, 1695, 1700, 1705, 1710, 1715, 1720, 1725, 1730, 1735, 1740, 1745, 1750, 1755, 1760, 1765, 1770, 1775, 1780, 1785, 1790, 1795, 1800, 1805, 1810, 1815, 1820, 1825, 1830, 1835, 1840, 1845, 1850, 1855, 1860, 1865, 1870, 1875, 1880, 1885, 1890, 1895, 1900, 1905, 1910, 1915, 1920, 1925, 1930, 1935, 1940, 1945, 1950, 1955, 1960, 1965, 1970, 1975, 1980, 1985, 1990, 1995, 2000]\n",
            "[1001, 1008, 1022, 1029, 1036, 1043, 1057, 1064, 1071, 1078, 1092, 1099, 1106, 1113, 1127, 1134, 1141, 1148, 1162, 1169, 1176, 1183, 1197, 1204, 1211, 1218, 1232, 1239, 1246, 1253, 1267, 1274, 1281, 1288, 1302, 1309, 1316, 1323, 1337, 1344, 1351, 1358, 1372, 1379, 1386, 1393, 1407, 1414, 1421, 1428, 1442, 1449, 1456, 1463, 1477, 1484, 1491, 1498, 1512, 1519, 1526, 1533, 1547, 1554, 1561, 1568, 1582, 1589, 1596, 1603, 1617, 1624, 1631, 1638, 1652, 1659, 1666, 1673, 1687, 1694, 1701, 1708, 1722, 1729, 1736, 1743, 1757, 1764, 1771, 1778, 1792, 1799, 1806, 1813, 1827, 1834, 1841, 1848, 1862, 1869, 1876, 1883, 1897, 1904, 1911, 1918, 1932, 1939, 1946, 1953, 1967, 1974, 1981, 1988]\n"
          ],
          "name": "stdout"
        }
      ]
    },
    {
      "cell_type": "markdown",
      "metadata": {
        "id": "LHO2eLGgJ1CQ",
        "colab_type": "text"
      },
      "source": [
        "# 問2\n"
      ]
    },
    {
      "cell_type": "markdown",
      "metadata": {
        "id": "_lXikdJEKP7A",
        "colab_type": "text"
      },
      "source": [
        "*   「,」で区切られた複数の単語の列を、\n",
        "    *  例：\"with,go,apple,late,set\"\n",
        "*  一つの長い文字列として、キーボード入力で受け取り、\n",
        "*  それらの単語を辞書式順に並び変えてから、\n",
        "*  やはり「,」で区切られた単語の列として、\n",
        "*  画面に表示してみよう。\n",
        "    *  例：\"apple,go,late,set,with\""
      ]
    },
    {
      "cell_type": "code",
      "metadata": {
        "id": "zqG6xo4zsJeY",
        "colab_type": "code",
        "outputId": "8cbda6be-d823-45ff-9fd5-baa04adaeaa7",
        "colab": {
          "base_uri": "https://localhost:8080/",
          "height": 51
        }
      },
      "source": [
        "s = input(\"単語の列を入力：\")\n",
        "s_list = list(s.split(','))\n",
        "new_s_list = sorted(s_list)\n",
        "\n",
        "##↓の出力は求められている答えとちょっと違う！\n",
        "# print(s_list) \n",
        "\n",
        "# listを文字列に変換する「join()」を使う。\n",
        "print(','.join(new_s_list))\n"
      ],
      "execution_count": 0,
      "outputs": [
        {
          "output_type": "stream",
          "text": [
            "単語の列を入力：with,go,apple,late,set\n",
            "apple,go,late,set,with\n"
          ],
          "name": "stdout"
        }
      ]
    },
    {
      "cell_type": "markdown",
      "metadata": {
        "id": "gIdNWwsnKUnN",
        "colab_type": "text"
      },
      "source": [
        "# 問3"
      ]
    },
    {
      "cell_type": "markdown",
      "metadata": {
        "id": "4yPDA_WKKXi0",
        "colab_type": "text"
      },
      "source": [
        "*   「,」で区切られた複数の単語の列を、\n",
        "    *  例：\"with,go,apple,late,set\"\n",
        "*  一つの長い文字列として、キーボード入力で受け取り、\n",
        "*  各々の単語をキー(key)とし、\n",
        "*  その単語の長さを値(value)とするような辞書を作り、\n",
        "*  その辞書をそのまま画面に表示させてみよう"
      ]
    },
    {
      "cell_type": "code",
      "metadata": {
        "id": "vQKJG05QxFr3",
        "colab_type": "code",
        "outputId": "d035fd34-12a8-47f6-8ffb-adf3156e89d5",
        "colab": {
          "base_uri": "https://localhost:8080/",
          "height": 50
        }
      },
      "source": [
        "s = input(\"単語の列を入力：\")\n",
        "#単語を「key」リスト化\n",
        "k_list = list(s.split(','))\n",
        "#単語の長さを「value」リスト化\n",
        "v_list = []\n",
        "for i in k_list:\n",
        "    v_list.append(len(i))\n",
        "\n",
        "##それぞれのリストを出力してみる\n",
        "# print(k_list)\n",
        "# print(v_list)\n",
        "\n",
        "ans_3 = {}\n",
        "for j in range(len(k_list)):\n",
        "    ans_3[k_list[j]]=v_list[j] #辞書「ans_3」に、キー：k_listの0番目の値（with）と、バリュー：v_listの0番目の値（4）を、追加。以降、リストの最後まで繰り返す。\n",
        "print(ans_3)\n"
      ],
      "execution_count": 0,
      "outputs": [
        {
          "output_type": "stream",
          "text": [
            "単語の列を入力：with,go,apple,late,set\n",
            "{'with': 4, 'go': 2, 'apple': 5, 'late': 4, 'set': 3}\n"
          ],
          "name": "stdout"
        }
      ]
    },
    {
      "cell_type": "markdown",
      "metadata": {
        "id": "i7150DKDKeHa",
        "colab_type": "text"
      },
      "source": [
        "# 問4"
      ]
    },
    {
      "cell_type": "markdown",
      "metadata": {
        "id": "T2SPFOVNKjxA",
        "colab_type": "text"
      },
      "source": [
        "*   数をユーザに当てさせるゲームを作ろう。\n",
        "    *    プログラムの初めに0以上99以下の整数の乱数を発生させる\n",
        "    *    この数を、以下のようにしてユーザに当てさせる。\n",
        "    *    ユーザは毎回キーボードから数を入力する。\n",
        "    *    もしその数が正解なら、正解である旨を表示してプログラムは終了。\n",
        "    *    そうでないなら、正解よりも大きな値か、あるいは小さな値かを、ヒントとして画面に表示する。\n",
        "    *    正解にだどりつくまで、ユーザに数を入力させる。"
      ]
    },
    {
      "cell_type": "code",
      "metadata": {
        "id": "mVl1EoL61qRB",
        "colab_type": "code",
        "outputId": "34045b80-179d-4d08-969d-adb73f816c24",
        "colab": {
          "base_uri": "https://localhost:8080/"
        }
      },
      "source": [
        "import random\n",
        "target_n = random.randint(0,99)\n",
        "\n",
        "n = int(input('数字を当ててください：'))\n",
        "while target_n != n:\n",
        "    if n > target_n:\n",
        "        print('ヒント：もっと小さいです')\n",
        "    elif n < target_n:\n",
        "        print('ヒント：もっと大きいです')\n",
        "    n = int(input('数字を当ててください：'))\n",
        "print('正解')\n"
      ],
      "execution_count": 0,
      "outputs": [
        {
          "output_type": "stream",
          "text": [
            "数字を当ててください：50\n",
            "ヒント：もっと大きいです\n",
            "数字を当ててください：80\n",
            "ヒント：もっと大きいです\n",
            "数字を当ててください：90\n",
            "ヒント：もっと大きいです\n",
            "数字を当ててください：96\n",
            "ヒント：もっと小さいです\n",
            "数字を当ててください：94\n",
            "ヒント：もっと大きいです\n",
            "数字を当ててください：95\n",
            "正解\n"
          ],
          "name": "stdout"
        }
      ]
    },
    {
      "cell_type": "markdown",
      "metadata": {
        "id": "B5KdN54hKnJZ",
        "colab_type": "text"
      },
      "source": [
        "# 問5"
      ]
    },
    {
      "cell_type": "markdown",
      "metadata": {
        "id": "DNSwEsxdKr5S",
        "colab_type": "text"
      },
      "source": [
        "*   キーボード入力で、\n",
        "*   「0」と「1」だけから成る文字列を受け取り、\n",
        "*   その文字列を2進数の数と解釈して、\n",
        "*    同じ値を8進数で表した場合の表記を文字列として作り、\n",
        "*    画面に表示させてみよう。"
      ]
    },
    {
      "cell_type": "code",
      "metadata": {
        "id": "Px64mhwYzbsF",
        "colab_type": "code",
        "outputId": "6fd422db-9371-4e9c-cfa7-6250d17b9844",
        "colab": {
          "base_uri": "https://localhost:8080/",
          "height": 51
        }
      },
      "source": [
        "b = input('0と1だけの文字列を入力：')\n",
        "\n",
        "## １と０の文字列を１０進数の数値に計算。\n",
        "b_list = list(b[::-1])\n",
        "number = 0\n",
        "for i in range(len(b_list)):\n",
        "    number += int(b_list[i]) * (2 ** i)\n",
        "# print(number)\n",
        "\n",
        "oct_number = oct(number)\n",
        "print(oct_number)\n"
      ],
      "execution_count": 0,
      "outputs": [
        {
          "output_type": "stream",
          "text": [
            "0と1だけの文字列を入力：1111111\n",
            "0o177\n"
          ],
          "name": "stdout"
        }
      ]
    },
    {
      "cell_type": "code",
      "metadata": {
        "id": "9j7P6SRMGfCD",
        "colab_type": "code",
        "outputId": "317efc1f-52e6-4a79-c153-7acc6d0f320e",
        "colab": {
          "base_uri": "https://localhost:8080/",
          "height": 68
        }
      },
      "source": [
        "b = input('0と1だけの文字列を入力：')\n",
        "\n",
        "# 文字列ｂを、2進数の数値に変換\n",
        "b_num = int(b, 2)\n",
        "# print(b_num)\n",
        "\n",
        "# b_numの型を確認　＝＞ int型\n",
        "# print(type(b_num))\n",
        "\n",
        "# 数値を8進数の文字列に変換\n",
        "oct_str = oct(b_num)\n",
        "print('8進数表記：',oct_str)\n",
        "print('10進数表記：',b_num)\n"
      ],
      "execution_count": 0,
      "outputs": [
        {
          "output_type": "stream",
          "text": [
            "0と1だけの文字列を入力：1110\n",
            "8進数表記： 0o16\n",
            "10進数表記： 14\n"
          ],
          "name": "stdout"
        }
      ]
    }
  ]
}